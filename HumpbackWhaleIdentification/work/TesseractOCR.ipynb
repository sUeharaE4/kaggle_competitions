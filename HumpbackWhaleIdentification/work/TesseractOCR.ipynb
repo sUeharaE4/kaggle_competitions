{
 "cells": [
  {
   "cell_type": "code",
   "execution_count": null,
   "metadata": {
    "colab": {
     "base_uri": "https://localhost:8080/",
     "height": 1054
    },
    "colab_type": "code",
    "executionInfo": {
     "elapsed": 23398,
     "status": "ok",
     "timestamp": 1550408146912,
     "user": {
      "displayName": "上原駿一",
      "photoUrl": "",
      "userId": "02108592613219696131"
     },
     "user_tz": -540
    },
    "id": "IjaYdk8nVmjq",
    "outputId": "4ed94753-d7a3-4cc8-d9bb-374745775b29"
   },
   "outputs": [],
   "source": [
    "#Tesseract OCRの関連ライブラリーとPythonラッパーをインストール\n",
    "!apt install tesseract-ocr\n",
    "!apt install libtesseract-dev\n",
    "!pip install pyocr"
   ]
  },
  {
   "cell_type": "code",
   "execution_count": null,
   "metadata": {
    "colab": {
     "base_uri": "https://localhost:8080/",
     "height": 85
    },
    "colab_type": "code",
    "executionInfo": {
     "elapsed": 26759,
     "status": "ok",
     "timestamp": 1550408150299,
     "user": {
      "displayName": "上原駿一",
      "photoUrl": "",
      "userId": "02108592613219696131"
     },
     "user_tz": -540
    },
    "id": "_VDInPgZWIFd",
    "outputId": "6a93489b-7be6-4ee7-832c-414df83f6376"
   },
   "outputs": [],
   "source": [
    "!curl -L https://github.com/tesseract-ocr/tessdata/raw/master/jpn.traineddata > jpn.traineddata\n",
    "!cp jpn.traineddata /usr/share/tesseract-ocr/4.00/tessdata/"
   ]
  },
  {
   "cell_type": "code",
   "execution_count": null,
   "metadata": {
    "colab": {},
    "colab_type": "code",
    "id": "zzaDDe9ZWTtz"
   },
   "outputs": [],
   "source": [
    "#モジュールをインポート\n",
    "from PIL import Image\n",
    "import sys\n",
    "import pyocr\n",
    "import pyocr.builders\n",
    "\n",
    "import numpy as np\n",
    "import cv2\n",
    "\n",
    "from IPython.display import display\n",
    "from IPython.display import Image as IpyImage\n",
    "\n",
    "def display_cv_image(image, format='.jpg'):\n",
    "    decoded_bytes = cv2.imencode(format, image)[1].tobytes()\n",
    "    display(IpyImage(data=decoded_bytes))"
   ]
  },
  {
   "cell_type": "code",
   "execution_count": null,
   "metadata": {
    "colab": {
     "base_uri": "https://localhost:8080/",
     "height": 34
    },
    "colab_type": "code",
    "executionInfo": {
     "elapsed": 27891,
     "status": "ok",
     "timestamp": 1550408151456,
     "user": {
      "displayName": "上原駿一",
      "photoUrl": "",
      "userId": "02108592613219696131"
     },
     "user_tz": -540
    },
    "id": "mfgRxcmXWoMw",
    "outputId": "c6789a87-aae7-451d-9aa0-55c90fe778f6"
   },
   "outputs": [],
   "source": [
    "#OCRが使用可能かをチェック\n",
    "tools = pyocr.get_available_tools()\n",
    "if len(tools) == 0:\n",
    "    print(\"OCR tool is not found\")\n",
    "    sys.exit(1)\n",
    "\n",
    "#OCRツール名を表示\n",
    "tool = tools[0]\n",
    "print(\"OCR tool is '%s'\" % (tool.get_name()))"
   ]
  },
  {
   "cell_type": "code",
   "execution_count": null,
   "metadata": {
    "colab": {
     "base_uri": "https://localhost:8080/",
     "height": 51
    },
    "colab_type": "code",
    "executionInfo": {
     "elapsed": 27876,
     "status": "ok",
     "timestamp": 1550408151458,
     "user": {
      "displayName": "上原駿一",
      "photoUrl": "",
      "userId": "02108592613219696131"
     },
     "user_tz": -540
    },
    "id": "9ZGFsTUzWqpB",
    "outputId": "81568fa3-3d4d-4ad4-a87d-9cd2cca76bd6"
   },
   "outputs": [],
   "source": [
    "#OCR対応言語を表示\n",
    "langs = tool.get_available_languages()\n",
    "print(\"Available languages: %s\" % \", \".join(langs))\n",
    "lang = langs[0]\n",
    "print(\"Will use lang '%s'\" % (lang))"
   ]
  },
  {
   "cell_type": "code",
   "execution_count": null,
   "metadata": {
    "colab": {
     "base_uri": "https://localhost:8080/",
     "height": 779
    },
    "colab_type": "code",
    "executionInfo": {
     "elapsed": 28506,
     "status": "ok",
     "timestamp": 1550408152105,
     "user": {
      "displayName": "上原駿一",
      "photoUrl": "",
      "userId": "02108592613219696131"
     },
     "user_tz": -540
    },
    "id": "nQ5TtD7xWtQT",
    "outputId": "51a1c79a-cb28-4bbf-ad00-358bdc7eacaa"
   },
   "outputs": [],
   "source": [
    "filename = '8f7b64491.jpg'\n",
    "img = cv2.imread(filename)\n",
    "display_cv_image(img)"
   ]
  },
  {
   "cell_type": "code",
   "execution_count": null,
   "metadata": {
    "colab": {
     "base_uri": "https://localhost:8080/",
     "height": 34
    },
    "colab_type": "code",
    "executionInfo": {
     "elapsed": 28772,
     "status": "ok",
     "timestamp": 1550408152381,
     "user": {
      "displayName": "上原駿一",
      "photoUrl": "",
      "userId": "02108592613219696131"
     },
     "user_tz": -540
    },
    "id": "VENov_Z5XclC",
    "outputId": "43894ac9-e3c5-453d-b73f-87f550f6690c"
   },
   "outputs": [],
   "source": [
    " #読み込んだ画像をOCRでテキスト抽出してみる。\n",
    "txt = tool.image_to_string(\n",
    "    Image.open(filename),\n",
    "    lang=\"eng\",\n",
    "    builder=pyocr.builders.TextBuilder(tesseract_layout=7)\n",
    ")\n",
    "print( txt )"
   ]
  }
 ],
 "metadata": {
  "colab": {
   "name": "TesseractOCR.ipynb",
   "provenance": [],
   "version": "0.3.2"
  },
  "kernelspec": {
   "display_name": "Python 3",
   "language": "python",
   "name": "python3"
  },
  "language_info": {
   "codemirror_mode": {
    "name": "ipython",
    "version": 3
   },
   "file_extension": ".py",
   "mimetype": "text/x-python",
   "name": "python",
   "nbconvert_exporter": "python",
   "pygments_lexer": "ipython3",
   "version": "3.6.5"
  }
 },
 "nbformat": 4,
 "nbformat_minor": 1
}
